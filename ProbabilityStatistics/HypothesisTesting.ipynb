{
 "cells": [
  {
   "cell_type": "markdown",
   "metadata": {},
   "source": [
    "# Hypothesis Testing\n",
    "\n",
    "## What is a Hypothesis?\n",
    "\n",
    "A hypothesis is **educated guess** about something in the world around you. It should be testable, either by experiment or observation.\n",
    "\n",
    "Hypothesis 指的是**有根据的猜测**. 它要是可测试的, 要么通过实验, 要么通过观察.\n",
    "\n",
    "## What is Hypothesis Testing?\n",
    "\n",
    "根据维基百科的阐述, 统计假设检验是统计推理的一种方法, 用于判断手上的数据是否满足支持一个具体的假设, 它让我们可以对整体参数进行一个概率性的陈述.\n",
    "\n",
    "也可以说统计假设检验是用实验结果(样本数据)去对整体参数(均值, 方差, 标准差, 中位数, 众数等)或整体概率分布得出某种结论.\n",
    "\n",
    "Hypothesis testing 在统计学中指的是一种判断实验结果是否有意义的方法. 简单来讲就是判定你的实验结果是否是可再现或可重复实验的, 也就是说实验结果出现的几率是不是偶然的, 对于那种只在偶然情况下才得到的实验结果来说, 这种实验结果是没有用处的.\n",
    "\n",
    "Hypothesis testing 的实现思路如下:\n",
    "\n",
    "- 确定原假设. Figure out your null hypothesis.\n",
    "- 说明或者阐述你的原假设. State your null hypothesis.\n",
    "- 选择你需要去执行测试的种类. Choose what kind of test you need to perform.\n",
    "- 判定是拒绝还是无法拒绝原假设. Either support or reject the null hypothesis.\n",
    "\n",
    "## What is the Null Hypothesis?\n",
    "\n",
    "If you trace back the history of science, the null hypothesis is always the accepted fact. Simple examples of null hypothesis that are generally accepted as being true are:\n",
    "\n",
    "- DNA is shaped like a double helix.\n",
    "- There are 8 plants in the solar system (excluding Pluto).\n",
    "- Taking Vioxx can increase your risk of heart problems (a drug now taken off the market).\n",
    "\n",
    "## Alpha Level (Significance Level)\n",
    "\n",
    "显著性水平或阿尔法水平指的是产生 `Type I` 错误的概率. `Type I` 错误指的是原假设本身是正确的, 但通过假设检验却拒绝了原假设. \n",
    "\n",
    "通常在假设检验中如果不特别设定这个值, 默认采用 `5%`. 也就是说我们有5%的概率将应该接受的原假设给拒绝了\n",
    "\n",
    "## Confidence Level\n",
    "\n",
    "置信度, 置信度=$1-\\alpha$, 即执行度等于1减显著性水平.\n",
    "\n",
    "置信度的含义可以用下面的例子来说明. 假设我们说\"在美国有38%的潜在选民声称他们的健康保险所覆盖的范围因为奥巴马的医改政策而改变\", 这句话的置信度为95%.\n",
    "\n",
    "其含义是我们不断的从美国3亿潜在选民中随机抽取来进行调查, 那么结果有95%的可能性和真实情况一样. 也就是说这个38%的结果有95%的概率和整体情况一致.\n",
    "\n",
    "## How to decided if a hypothesis test is a one_tailed test or a tow-tailed test\n",
    "\n",
    "原假设:\n",
    "\n",
    "- #1: 一个政府官员声称去年本地学校的辍学率是25%. 通过实地走访, 在603个学生中有109个辍学. 那么我们是否有足够的证据来决绝这个官员的说法?\n",
    "- #2:  一个政府官员声称去年本地学校的辍学率低于25%. 通过实地走访, 在603个学生中有109个辍学. 那么我们是否有足够的证据来决绝这个官员的说法?\n",
    "- #3:  一个政府官员声称去年本地学校的辍学率高于25%. 通过实地走访, 在603个学生中有109个辍学. 那么我们是否有足够的证据来决绝这个官员的说法?\n",
    "\n",
    "问题1里面是等于问题, 所以用双尾检验. 而问题2和3是大于和小于问题, 用单尾检验.\n",
    "\n",
    "## Hypothesis Testing Examples (One Sample Z Test)\n",
    "\n",
    "One Sample Z Test 并不常用, 因为这个检验方式需要知道全量的标准差, 通常我们很少会知道全量的标准差. 但这个方法对于理解假设检验还是不错的, 因为它足够简单和利于理解.\n",
    "\n",
    "`One Sample Z Test` 指的是通过一个样本来计算z-score从而确定是否可以接受或拒绝原假设. 这里的z-score指的的正态分布中的z-score. 能够使用z-score来进行检验是依据的中心极限理论.\n",
    "\n",
    "### One Sample Hypothesis Testing Example: One Tailed Z Test\n",
    "\n"
   ]
  },
  {
   "cell_type": "markdown",
   "metadata": {},
   "source": [
    "## Sources\n",
    "\n",
    "- [Statistics How To - Hypothesis Testing](https://www.statisticshowto.com/probability-and-statistics/hypothesis-testing/)"
   ]
  }
 ],
 "metadata": {
  "kernelspec": {
   "display_name": "Python 3.8.5 ('base')",
   "language": "python",
   "name": "python3"
  },
  "language_info": {
   "name": "python",
   "version": "3.8.5"
  },
  "orig_nbformat": 4,
  "vscode": {
   "interpreter": {
    "hash": "c47b3fd94286b9788ca24a5dc76812a7f3d81a041a874dbfccf1db12dc8e64b6"
   }
  }
 },
 "nbformat": 4,
 "nbformat_minor": 2
}

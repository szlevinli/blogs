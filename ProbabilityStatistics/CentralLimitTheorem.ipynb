{
 "cells": [
  {
   "cell_type": "code",
   "execution_count": 20,
   "metadata": {},
   "outputs": [],
   "source": [
    "import seaborn as sns\n",
    "import matplotlib.pyplot as plt\n",
    "import numpy as np\n",
    "import pandas as pd\n",
    "import warnings\n",
    "warnings.filterwarnings('ignore')\n",
    "pd.options.display.max_rows = 5\n",
    "%matplotlib inline\n"
   ]
  },
  {
   "cell_type": "code",
   "execution_count": 21,
   "metadata": {},
   "outputs": [
    {
     "data": {
      "text/plain": [
       "<AxesSubplot:ylabel='Density'>"
      ]
     },
     "execution_count": 21,
     "metadata": {},
     "output_type": "execute_result"
    },
    {
     "data": {
      "image/png": "[encoded data removed]",
      "text/plain": [
       "<Figure size 432x288 with 1 Axes>"
      ]
     },
     "metadata": {
      "needs_background": "dark"
     },
     "output_type": "display_data"
    }
   ],
   "source": [
    "# plot exponentially distribution\n",
    "rate = 0.25\n",
    "sns.distplot(np.random.exponential((1/0.25), size=1000), hist=False)\n"
   ]
  },
  {
   "cell_type": "code",
   "execution_count": 22,
   "metadata": {},
   "outputs": [
    {
     "name": "stdout",
     "output_type": "stream",
     "text": [
      "Population mean: 4.0\n",
      "Population standard deviation: 4.0\n"
     ]
    }
   ],
   "source": [
    "# rate parameter for the exponentially distribution population\n",
    "rate = 0.25\n",
    "# Population mean\n",
    "mu = 1 / rate\n",
    "# Population standard deviation\n",
    "sd = np.sqrt(1 / (rate ** 2))\n",
    "\n",
    "print(f'Population mean: {mu}')\n",
    "print(f'Population standard deviation: {sd}')\n"
   ]
  },
  {
   "cell_type": "code",
   "execution_count": 23,
   "metadata": {},
   "outputs": [
    {
     "data": {
      "text/html": [
       "<div>\n",
       "<style scoped>\n",
       "    .dataframe tbody tr th:only-of-type {\n",
       "        vertical-align: middle;\n",
       "    }\n",
       "\n",
       "    .dataframe tbody tr th {\n",
       "        vertical-align: top;\n",
       "    }\n",
       "\n",
       "    .dataframe thead th {\n",
       "        text-align: right;\n",
       "    }\n",
       "</style>\n",
       "<table border=\"1\" class=\"dataframe\">\n",
       "  <thead>\n",
       "    <tr style=\"text-align: right;\">\n",
       "      <th></th>\n",
       "      <th>sample 1</th>\n",
       "      <th>sample 2</th>\n",
       "      <th>sample 3</th>\n",
       "      <th>sample 4</th>\n",
       "      <th>sample 5</th>\n",
       "      <th>sample 6</th>\n",
       "      <th>sample 7</th>\n",
       "      <th>sample 8</th>\n",
       "      <th>sample 9</th>\n",
       "      <th>sample 10</th>\n",
       "      <th>...</th>\n",
       "      <th>sample 41</th>\n",
       "      <th>sample 42</th>\n",
       "      <th>sample 43</th>\n",
       "      <th>sample 44</th>\n",
       "      <th>sample 45</th>\n",
       "      <th>sample 46</th>\n",
       "      <th>sample 47</th>\n",
       "      <th>sample 48</th>\n",
       "      <th>sample 49</th>\n",
       "      <th>sample 50</th>\n",
       "    </tr>\n",
       "  </thead>\n",
       "  <tbody>\n",
       "    <tr>\n",
       "      <th>x1</th>\n",
       "      <td>0.935334</td>\n",
       "      <td>4.438103</td>\n",
       "      <td>3.050337</td>\n",
       "      <td>0.884390</td>\n",
       "      <td>0.564123</td>\n",
       "      <td>0.165198</td>\n",
       "      <td>2.016721</td>\n",
       "      <td>4.338136</td>\n",
       "      <td>3.386334</td>\n",
       "      <td>1.914269</td>\n",
       "      <td>...</td>\n",
       "      <td>0.152822</td>\n",
       "      <td>5.997278</td>\n",
       "      <td>2.227912</td>\n",
       "      <td>0.020500</td>\n",
       "      <td>2.179096</td>\n",
       "      <td>4.251128</td>\n",
       "      <td>0.667811</td>\n",
       "      <td>0.831093</td>\n",
       "      <td>0.622223</td>\n",
       "      <td>2.410480</td>\n",
       "    </tr>\n",
       "    <tr>\n",
       "      <th>x2</th>\n",
       "      <td>0.835200</td>\n",
       "      <td>1.215102</td>\n",
       "      <td>2.553780</td>\n",
       "      <td>18.176134</td>\n",
       "      <td>0.086243</td>\n",
       "      <td>1.001663</td>\n",
       "      <td>5.925206</td>\n",
       "      <td>0.967188</td>\n",
       "      <td>9.598462</td>\n",
       "      <td>1.263830</td>\n",
       "      <td>...</td>\n",
       "      <td>5.461625</td>\n",
       "      <td>2.543063</td>\n",
       "      <td>12.323265</td>\n",
       "      <td>7.650094</td>\n",
       "      <td>3.531323</td>\n",
       "      <td>0.100253</td>\n",
       "      <td>10.867763</td>\n",
       "      <td>5.856353</td>\n",
       "      <td>4.770834</td>\n",
       "      <td>19.587829</td>\n",
       "    </tr>\n",
       "  </tbody>\n",
       "</table>\n",
       "<p>2 rows × 50 columns</p>\n",
       "</div>"
      ],
      "text/plain": [
       "    sample 1  sample 2  sample 3   sample 4  sample 5  sample 6  sample 7  \\\n",
       "x1  0.935334  4.438103  3.050337   0.884390  0.564123  0.165198  2.016721   \n",
       "x2  0.835200  1.215102  2.553780  18.176134  0.086243  1.001663  5.925206   \n",
       "\n",
       "    sample 8  sample 9  sample 10  ...  sample 41  sample 42  sample 43  \\\n",
       "x1  4.338136  3.386334   1.914269  ...   0.152822   5.997278   2.227912   \n",
       "x2  0.967188  9.598462   1.263830  ...   5.461625   2.543063  12.323265   \n",
       "\n",
       "    sample 44  sample 45  sample 46  sample 47  sample 48  sample 49  \\\n",
       "x1   0.020500   2.179096   4.251128   0.667811   0.831093   0.622223   \n",
       "x2   7.650094   3.531323   0.100253  10.867763   5.856353   4.770834   \n",
       "\n",
       "    sample 50  \n",
       "x1   2.410480  \n",
       "x2  19.587829  \n",
       "\n",
       "[2 rows x 50 columns]"
      ]
     },
     "execution_count": 23,
     "metadata": {},
     "output_type": "execute_result"
    }
   ],
   "source": [
    "# drawing 50 random samples of size 2 from the exponentially distribution population\n",
    "sample_size = 2\n",
    "df2 = pd.DataFrame(index=['x1', 'x2'])\n",
    "\n",
    "for i in range(1, 51):\n",
    "    exponential_sample = np.random.exponential((1/rate), sample_size)\n",
    "    col = f'sample {i}'\n",
    "    df2[col] = exponential_sample\n",
    "\n",
    "df2\n"
   ]
  },
  {
   "cell_type": "code",
   "execution_count": 24,
   "metadata": {},
   "outputs": [
    {
     "data": {
      "text/plain": [
       "sample 1      0.885267\n",
       "sample 2      2.826603\n",
       "               ...    \n",
       "sample 49     2.696529\n",
       "sample 50    10.999155\n",
       "Length: 50, dtype: float64"
      ]
     },
     "execution_count": 24,
     "metadata": {},
     "output_type": "execute_result"
    }
   ],
   "source": [
    "# Calculating sample means and plotting their distribution\n",
    "df2_sample_means = df2.mean()\n",
    "df2_sample_means\n"
   ]
  },
  {
   "cell_type": "code",
   "execution_count": 25,
   "metadata": {},
   "outputs": [
    {
     "data": {
      "text/plain": [
       "<AxesSubplot:ylabel='Density'>"
      ]
     },
     "execution_count": 25,
     "metadata": {},
     "output_type": "execute_result"
    },
    {
     "data": {
      "image/png": "[encoded data removed]",
      "text/plain": [
       "<Figure size 432x288 with 1 Axes>"
      ]
     },
     "metadata": {
      "needs_background": "dark"
     },
     "output_type": "display_data"
    }
   ],
   "source": [
    "sns.distplot(df2_sample_means)\n"
   ]
  },
  {
   "cell_type": "code",
   "execution_count": 26,
   "metadata": {},
   "outputs": [
    {
     "data": {
      "text/html": [
       "<div>\n",
       "<style scoped>\n",
       "    .dataframe tbody tr th:only-of-type {\n",
       "        vertical-align: middle;\n",
       "    }\n",
       "\n",
       "    .dataframe tbody tr th {\n",
       "        vertical-align: top;\n",
       "    }\n",
       "\n",
       "    .dataframe thead th {\n",
       "        text-align: right;\n",
       "    }\n",
       "</style>\n",
       "<table border=\"1\" class=\"dataframe\">\n",
       "  <thead>\n",
       "    <tr style=\"text-align: right;\">\n",
       "      <th></th>\n",
       "      <th>sample 1</th>\n",
       "      <th>sample 2</th>\n",
       "      <th>sample 3</th>\n",
       "      <th>sample 4</th>\n",
       "      <th>sample 5</th>\n",
       "      <th>sample 6</th>\n",
       "      <th>sample 7</th>\n",
       "      <th>sample 8</th>\n",
       "      <th>sample 9</th>\n",
       "      <th>sample 10</th>\n",
       "      <th>...</th>\n",
       "      <th>sample 41</th>\n",
       "      <th>sample 42</th>\n",
       "      <th>sample 43</th>\n",
       "      <th>sample 44</th>\n",
       "      <th>sample 45</th>\n",
       "      <th>sample 46</th>\n",
       "      <th>sample 47</th>\n",
       "      <th>sample 48</th>\n",
       "      <th>sample 49</th>\n",
       "      <th>sample 50</th>\n",
       "    </tr>\n",
       "  </thead>\n",
       "  <tbody>\n",
       "    <tr>\n",
       "      <th>0</th>\n",
       "      <td>1.537917</td>\n",
       "      <td>2.689509</td>\n",
       "      <td>2.177845</td>\n",
       "      <td>3.763662</td>\n",
       "      <td>0.608996</td>\n",
       "      <td>3.932652</td>\n",
       "      <td>2.941321</td>\n",
       "      <td>2.063112</td>\n",
       "      <td>1.878408</td>\n",
       "      <td>49.328059</td>\n",
       "      <td>...</td>\n",
       "      <td>0.481251</td>\n",
       "      <td>14.876172</td>\n",
       "      <td>6.993517</td>\n",
       "      <td>2.307129</td>\n",
       "      <td>0.272412</td>\n",
       "      <td>4.065126</td>\n",
       "      <td>0.620338</td>\n",
       "      <td>12.411053</td>\n",
       "      <td>8.419902</td>\n",
       "      <td>2.873847</td>\n",
       "    </tr>\n",
       "    <tr>\n",
       "      <th>1</th>\n",
       "      <td>2.778832</td>\n",
       "      <td>4.324654</td>\n",
       "      <td>1.405450</td>\n",
       "      <td>1.753569</td>\n",
       "      <td>1.433465</td>\n",
       "      <td>5.327348</td>\n",
       "      <td>7.122601</td>\n",
       "      <td>0.199375</td>\n",
       "      <td>5.158673</td>\n",
       "      <td>0.067850</td>\n",
       "      <td>...</td>\n",
       "      <td>2.749493</td>\n",
       "      <td>1.892514</td>\n",
       "      <td>1.560318</td>\n",
       "      <td>7.228101</td>\n",
       "      <td>2.091122</td>\n",
       "      <td>11.185868</td>\n",
       "      <td>4.139733</td>\n",
       "      <td>3.638684</td>\n",
       "      <td>0.754405</td>\n",
       "      <td>3.058603</td>\n",
       "    </tr>\n",
       "    <tr>\n",
       "      <th>...</th>\n",
       "      <td>...</td>\n",
       "      <td>...</td>\n",
       "      <td>...</td>\n",
       "      <td>...</td>\n",
       "      <td>...</td>\n",
       "      <td>...</td>\n",
       "      <td>...</td>\n",
       "      <td>...</td>\n",
       "      <td>...</td>\n",
       "      <td>...</td>\n",
       "      <td>...</td>\n",
       "      <td>...</td>\n",
       "      <td>...</td>\n",
       "      <td>...</td>\n",
       "      <td>...</td>\n",
       "      <td>...</td>\n",
       "      <td>...</td>\n",
       "      <td>...</td>\n",
       "      <td>...</td>\n",
       "      <td>...</td>\n",
       "      <td>...</td>\n",
       "    </tr>\n",
       "    <tr>\n",
       "      <th>498</th>\n",
       "      <td>2.389693</td>\n",
       "      <td>1.700686</td>\n",
       "      <td>2.522985</td>\n",
       "      <td>8.612529</td>\n",
       "      <td>4.634131</td>\n",
       "      <td>0.385801</td>\n",
       "      <td>1.816172</td>\n",
       "      <td>0.359084</td>\n",
       "      <td>0.569943</td>\n",
       "      <td>4.619057</td>\n",
       "      <td>...</td>\n",
       "      <td>12.522395</td>\n",
       "      <td>1.761554</td>\n",
       "      <td>1.434698</td>\n",
       "      <td>9.766186</td>\n",
       "      <td>0.670746</td>\n",
       "      <td>0.285924</td>\n",
       "      <td>3.340205</td>\n",
       "      <td>1.585954</td>\n",
       "      <td>4.938906</td>\n",
       "      <td>0.637714</td>\n",
       "    </tr>\n",
       "    <tr>\n",
       "      <th>499</th>\n",
       "      <td>5.448495</td>\n",
       "      <td>7.175793</td>\n",
       "      <td>0.220323</td>\n",
       "      <td>2.038571</td>\n",
       "      <td>2.414230</td>\n",
       "      <td>4.151060</td>\n",
       "      <td>12.208887</td>\n",
       "      <td>3.415033</td>\n",
       "      <td>9.181771</td>\n",
       "      <td>0.806607</td>\n",
       "      <td>...</td>\n",
       "      <td>9.250277</td>\n",
       "      <td>1.608849</td>\n",
       "      <td>2.979252</td>\n",
       "      <td>0.237895</td>\n",
       "      <td>3.152351</td>\n",
       "      <td>4.564105</td>\n",
       "      <td>6.251943</td>\n",
       "      <td>8.348559</td>\n",
       "      <td>2.810117</td>\n",
       "      <td>2.473184</td>\n",
       "    </tr>\n",
       "  </tbody>\n",
       "</table>\n",
       "<p>500 rows × 50 columns</p>\n",
       "</div>"
      ],
      "text/plain": [
       "     sample 1  sample 2  sample 3  sample 4  sample 5  sample 6   sample 7  \\\n",
       "0    1.537917  2.689509  2.177845  3.763662  0.608996  3.932652   2.941321   \n",
       "1    2.778832  4.324654  1.405450  1.753569  1.433465  5.327348   7.122601   \n",
       "..        ...       ...       ...       ...       ...       ...        ...   \n",
       "498  2.389693  1.700686  2.522985  8.612529  4.634131  0.385801   1.816172   \n",
       "499  5.448495  7.175793  0.220323  2.038571  2.414230  4.151060  12.208887   \n",
       "\n",
       "     sample 8  sample 9  sample 10  ...  sample 41  sample 42  sample 43  \\\n",
       "0    2.063112  1.878408  49.328059  ...   0.481251  14.876172   6.993517   \n",
       "1    0.199375  5.158673   0.067850  ...   2.749493   1.892514   1.560318   \n",
       "..        ...       ...        ...  ...        ...        ...        ...   \n",
       "498  0.359084  0.569943   4.619057  ...  12.522395   1.761554   1.434698   \n",
       "499  3.415033  9.181771   0.806607  ...   9.250277   1.608849   2.979252   \n",
       "\n",
       "     sample 44  sample 45  sample 46  sample 47  sample 48  sample 49  \\\n",
       "0     2.307129   0.272412   4.065126   0.620338  12.411053   8.419902   \n",
       "1     7.228101   2.091122  11.185868   4.139733   3.638684   0.754405   \n",
       "..         ...        ...        ...        ...        ...        ...   \n",
       "498   9.766186   0.670746   0.285924   3.340205   1.585954   4.938906   \n",
       "499   0.237895   3.152351   4.564105   6.251943   8.348559   2.810117   \n",
       "\n",
       "     sample 50  \n",
       "0     2.873847  \n",
       "1     3.058603  \n",
       "..         ...  \n",
       "498   0.637714  \n",
       "499   2.473184  \n",
       "\n",
       "[500 rows x 50 columns]"
      ]
     },
     "execution_count": 26,
     "metadata": {},
     "output_type": "execute_result"
    }
   ],
   "source": [
    "# drawing 50 random samples of size 500\n",
    "sample_size = 500\n",
    "df500 = pd.DataFrame()\n",
    "\n",
    "for i in range(1, 51):\n",
    "    exponential_sample = np.random.exponential((1/rate), sample_size)\n",
    "    col = f'sample {i}'\n",
    "    df500[col] = exponential_sample\n",
    "\n",
    "df500\n"
   ]
  },
  {
   "cell_type": "code",
   "execution_count": 27,
   "metadata": {},
   "outputs": [
    {
     "data": {
      "text/html": [
       "<div>\n",
       "<style scoped>\n",
       "    .dataframe tbody tr th:only-of-type {\n",
       "        vertical-align: middle;\n",
       "    }\n",
       "\n",
       "    .dataframe tbody tr th {\n",
       "        vertical-align: top;\n",
       "    }\n",
       "\n",
       "    .dataframe thead th {\n",
       "        text-align: right;\n",
       "    }\n",
       "</style>\n",
       "<table border=\"1\" class=\"dataframe\">\n",
       "  <thead>\n",
       "    <tr style=\"text-align: right;\">\n",
       "      <th></th>\n",
       "      <th>Sample means</th>\n",
       "    </tr>\n",
       "  </thead>\n",
       "  <tbody>\n",
       "    <tr>\n",
       "      <th>sample 1</th>\n",
       "      <td>4.115102</td>\n",
       "    </tr>\n",
       "    <tr>\n",
       "      <th>sample 2</th>\n",
       "      <td>4.095966</td>\n",
       "    </tr>\n",
       "    <tr>\n",
       "      <th>...</th>\n",
       "      <td>...</td>\n",
       "    </tr>\n",
       "    <tr>\n",
       "      <th>sample 49</th>\n",
       "      <td>3.785404</td>\n",
       "    </tr>\n",
       "    <tr>\n",
       "      <th>sample 50</th>\n",
       "      <td>4.021466</td>\n",
       "    </tr>\n",
       "  </tbody>\n",
       "</table>\n",
       "<p>50 rows × 1 columns</p>\n",
       "</div>"
      ],
      "text/plain": [
       "           Sample means\n",
       "sample 1       4.115102\n",
       "sample 2       4.095966\n",
       "...                 ...\n",
       "sample 49      3.785404\n",
       "sample 50      4.021466\n",
       "\n",
       "[50 rows x 1 columns]"
      ]
     },
     "execution_count": 27,
     "metadata": {},
     "output_type": "execute_result"
    }
   ],
   "source": [
    "df500_sample_means = pd.DataFrame(df500.mean(), columns=['Sample means'])\n",
    "df500_sample_means\n"
   ]
  },
  {
   "cell_type": "code",
   "execution_count": 28,
   "metadata": {},
   "outputs": [
    {
     "data": {
      "text/plain": [
       "<AxesSubplot:ylabel='Density'>"
      ]
     },
     "execution_count": 28,
     "metadata": {},
     "output_type": "execute_result"
    },
    {
     "data": {
      "image/png": "[encoded data removed]",
      "text/plain": [
       "<Figure size 432x288 with 1 Axes>"
      ]
     },
     "metadata": {
      "needs_background": "dark"
     },
     "output_type": "display_data"
    }
   ],
   "source": [
    "sns.distplot(df500_sample_means)\n"
   ]
  }
 ],
 "metadata": {
  "interpreter": {
   "hash": "c47b3fd94286b9788ca24a5dc76812a7f3d81a041a874dbfccf1db12dc8e64b6"
  },
  "kernelspec": {
   "display_name": "Python 3.8.5 ('base')",
   "language": "python",
   "name": "python3"
  },
  "language_info": {
   "codemirror_mode": {
    "name": "ipython",
    "version": 3
   },
   "file_extension": ".py",
   "mimetype": "text/x-python",
   "name": "python",
   "nbconvert_exporter": "python",
   "pygments_lexer": "ipython3",
   "version": "3.8.5"
  },
  "orig_nbformat": 4
 },
 "nbformat": 4,
 "nbformat_minor": 2
}

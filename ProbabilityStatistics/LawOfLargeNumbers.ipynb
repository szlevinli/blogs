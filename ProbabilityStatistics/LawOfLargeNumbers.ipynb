{
 "cells": [
  {
   "cell_type": "markdown",
   "metadata": {},
   "source": [
    "# The Law of Large Numbers\n"
   ]
  },
  {
   "cell_type": "markdown",
   "metadata": {},
   "source": [
    "Law of Large Numbers: the average result from repeating an experiment multiple times will better approximate the true or expected underlying result.\n",
    "\n",
    "Central Limit Theorem: as the size of the sample increase, the distribution of the mean across multiple samples will approximate a Gaussian distribution.\n",
    "\n",
    "The Central Limit Theorem tell us that as the sample size tends to infinity, the of the distribution of sample means approaches the normal distribution.\n",
    "\n",
    "The Law of Large Numbers tells us where the center (maximum point) of the bell is located.\n"
   ]
  },
  {
   "cell_type": "code",
   "execution_count": 5,
   "metadata": {},
   "outputs": [
    {
     "data": {
      "text/plain": [
       "<matplotlib.collections.PathCollection at 0x7fa511a67c40>"
      ]
     },
     "execution_count": 5,
     "metadata": {},
     "output_type": "execute_result"
    },
    {
     "data": {
      "image/png": "[encoded data removed]",
      "text/plain": [
       "<Figure size 432x288 with 1 Axes>"
      ]
     },
     "metadata": {
      "needs_background": "dark"
     },
     "output_type": "display_data"
    }
   ],
   "source": [
    "# demonstrate the law of large numbers\n",
    "from numpy.random import seed, randn\n",
    "from numpy import mean, array\n",
    "from matplotlib import pyplot\n",
    "# seed the random number generator\n",
    "seed(1)\n",
    "# sample sizes\n",
    "sizes = [x for x in range(10, 20000, 200)]\n",
    "# generate samples of different sizes and calculate their means\n",
    "means = [mean(5 * randn(size) + 50) for size in sizes]\n",
    "# plot sample mean error vs sample size\n",
    "pyplot.scatter(sizes, array(means) - 50)\n"
   ]
  },
  {
   "cell_type": "code",
   "execution_count": 10,
   "metadata": {},
   "outputs": [
    {
     "data": {
      "image/png": "[encoded data removed]",
      "text/plain": [
       "<Figure size 432x288 with 1 Axes>"
      ]
     },
     "metadata": {
      "needs_background": "dark"
     },
     "output_type": "display_data"
    }
   ],
   "source": [
    "import numpy as np\n",
    "import matplotlib.pyplot\n",
    "\n",
    "np.random.seed(1)\n",
    "# calculate the mean of 50 dice rolls 1000 times\n",
    "means = [np.mean(np.random.randint(1, 7, 50)) for _ in range(1000)]\n",
    "\n",
    "pyplot.hist(means)\n",
    "pyplot.show()\n"
   ]
  },
  {
   "cell_type": "markdown",
   "metadata": {},
   "source": [
    "Law of Large Numbers: 说的是, 随着样本大小的增加, 样本的均值会越来越接近整体均值.\n",
    "\n",
    "Central Limit Theorem: 说的是, 随着样本数量的增加, 这些样本的均值会呈高斯分布."
   ]
  }
 ],
 "metadata": {
  "interpreter": {
   "hash": "c47b3fd94286b9788ca24a5dc76812a7f3d81a041a874dbfccf1db12dc8e64b6"
  },
  "kernelspec": {
   "display_name": "Python 3.8.5 ('base')",
   "language": "python",
   "name": "python3"
  },
  "language_info": {
   "codemirror_mode": {
    "name": "ipython",
    "version": 3
   },
   "file_extension": ".py",
   "mimetype": "text/x-python",
   "name": "python",
   "nbconvert_exporter": "python",
   "pygments_lexer": "ipython3",
   "version": "3.8.5"
  },
  "orig_nbformat": 4
 },
 "nbformat": 4,
 "nbformat_minor": 2
}

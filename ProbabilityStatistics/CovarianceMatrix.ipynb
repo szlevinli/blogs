{
 "cells": [
  {
   "cell_type": "markdown",
   "metadata": {},
   "source": [
    "# Covariance Matrix\n",
    "\n",
    "> References:\n",
    "> - [Understanding The Covariance Matrix](https://datascienceplus.com/understanding-the-covariance-matrix/)\n",
    "\n",
    "## Introduction\n",
    "\n",
    "- 协方差矩阵: covariance matrix\n",
    "- 协方差: covariance\n",
    "- 方差($\\sigma^2$): variance\n",
    "- 标准差($\\sigma$): standard deviation. 方差开根号. \n",
    "\n",
    "协方差是衡量两个独立随机变量间的关系, 等于零表示没有关系, 大于零表示正相关, 小于零表示负相关.\n",
    "\n",
    "下面看一下方差和协方差的公式:\n",
    "\n",
    "方差:\n",
    "\n",
    "$$\n",
    "\\sigma^2_x = \\frac{1}{n-1}\\sum^n_{i=1}(x_i-\\bar{x})^2\n",
    "$$\n",
    "\n",
    "协方差:\n",
    "\n",
    "$$\n",
    "\\sigma(x,y) = \\frac{1}{n-1}\\sum^n_{i=1}(x_i-\\bar{x})(y_i-\\bar{y})\n",
    "$$\n",
    "\n",
    "从上面方差和协方差公式可以发现, 实际方差就是变量$x$与自己的协方差, 即 $\\sigma(\\pmb x, \\pmb x)$."
   ]
  },
  {
   "cell_type": "markdown",
   "metadata": {},
   "source": [
    "## Covariance Matrix\n",
    "\n",
    "根据协方差我们可以计算协方差矩阵, 对于给定的一个方阵, 其协方差为 $C_{i,j} = \\sigma(x_i, y_j)$ 其中 $C \\in \\mathbb{R^{d \\times d}}$, 其中 $d$ 是随机变量的维度.\n",
    "\n",
    "因为 $\\sigma(x_i,x_j) = \\sigma(x_j, x_i)$, 所以协方差是对称的.\n",
    "\n",
    "协方差矩阵的对角元素就是方差. 协方差矩阵表示为:\n",
    "\n",
    "$$\n",
    "C = \\frac{1}{n-1}\\sum^n_{i=1}(X_i - \\bar{X})(X_i - \\bar{X})\n",
    "$$\n",
    "\n",
    "这里的矩阵 $X \\in \\mathbb{R^{n \\times d}}$, 即 $X$ 表示数据集, 有 $n$ 个样本, 每个样本有 $d$ 列.\n",
    "\n",
    "当我们聚焦在只有 2 个字段的数据集时, 它的协方差矩阵是一个 $2 \\times 2$ 的方阵, 表示如下\n",
    "\n",
    "$$\n",
    "C =\n",
    "  \\begin{pmatrix}\n",
    "    \\sigma(x, x) & \\sigma(x, y) \\\\\n",
    "    \\sigma(y, x) & \\sigma(y, y) \\\\\n",
    "  \\end{pmatrix}\n",
    "$$\n",
    "\n",
    "上面的 $x$ 是向量, 表示第一列, $y$ 也是向量, 表示第二列. 为了更清新的表述意思, 使用 `pandas` 的 `DataFrame` 来表示"
   ]
  },
  {
   "cell_type": "code",
   "execution_count": 2,
   "metadata": {},
   "outputs": [],
   "source": [
    "import pandas as pd\n",
    "import numpy as np"
   ]
  },
  {
   "cell_type": "code",
   "execution_count": 4,
   "metadata": {},
   "outputs": [
    {
     "data": {
      "text/html": [
       "<div>\n",
       "<style scoped>\n",
       "    .dataframe tbody tr th:only-of-type {\n",
       "        vertical-align: middle;\n",
       "    }\n",
       "\n",
       "    .dataframe tbody tr th {\n",
       "        vertical-align: top;\n",
       "    }\n",
       "\n",
       "    .dataframe thead th {\n",
       "        text-align: right;\n",
       "    }\n",
       "</style>\n",
       "<table border=\"1\" class=\"dataframe\">\n",
       "  <thead>\n",
       "    <tr style=\"text-align: right;\">\n",
       "      <th></th>\n",
       "      <th>x</th>\n",
       "      <th>y</th>\n",
       "    </tr>\n",
       "  </thead>\n",
       "  <tbody>\n",
       "    <tr>\n",
       "      <th>0</th>\n",
       "      <td>68</td>\n",
       "      <td>167</td>\n",
       "    </tr>\n",
       "    <tr>\n",
       "      <th>1</th>\n",
       "      <td>24</td>\n",
       "      <td>136</td>\n",
       "    </tr>\n",
       "    <tr>\n",
       "      <th>2</th>\n",
       "      <td>33</td>\n",
       "      <td>152</td>\n",
       "    </tr>\n",
       "    <tr>\n",
       "      <th>3</th>\n",
       "      <td>64</td>\n",
       "      <td>177</td>\n",
       "    </tr>\n",
       "    <tr>\n",
       "      <th>4</th>\n",
       "      <td>84</td>\n",
       "      <td>162</td>\n",
       "    </tr>\n",
       "    <tr>\n",
       "      <th>5</th>\n",
       "      <td>88</td>\n",
       "      <td>170</td>\n",
       "    </tr>\n",
       "    <tr>\n",
       "      <th>6</th>\n",
       "      <td>54</td>\n",
       "      <td>152</td>\n",
       "    </tr>\n",
       "    <tr>\n",
       "      <th>7</th>\n",
       "      <td>81</td>\n",
       "      <td>126</td>\n",
       "    </tr>\n",
       "    <tr>\n",
       "      <th>8</th>\n",
       "      <td>32</td>\n",
       "      <td>156</td>\n",
       "    </tr>\n",
       "    <tr>\n",
       "      <th>9</th>\n",
       "      <td>90</td>\n",
       "      <td>173</td>\n",
       "    </tr>\n",
       "  </tbody>\n",
       "</table>\n",
       "</div>"
      ],
      "text/plain": [
       "    x    y\n",
       "0  68  167\n",
       "1  24  136\n",
       "2  33  152\n",
       "3  64  177\n",
       "4  84  162\n",
       "5  88  170\n",
       "6  54  152\n",
       "7  81  126\n",
       "8  32  156\n",
       "9  90  173"
      ]
     },
     "execution_count": 4,
     "metadata": {},
     "output_type": "execute_result"
    }
   ],
   "source": [
    "df = pd.DataFrame({\n",
    "  'x': np.random.randint(10, 100, size=10),\n",
    "  'y': np.random.randint(100, 200, size=10)\n",
    "})\n",
    "df"
   ]
  },
  {
   "cell_type": "markdown",
   "metadata": {},
   "source": [
    "我们想展示线性变换如何影响数据集以及最终如何得到协方差矩阵. 首先我们需要产生一些随机变量, 这些随机变量取自标准正态分布(均值为 0, 方差为 1). 这么设计数据集的原因是我们希望数据集的协方差矩阵是一个单位矩阵."
   ]
  },
  {
   "cell_type": "code",
   "execution_count": 6,
   "metadata": {},
   "outputs": [],
   "source": [
    "import numpy as np\n",
    "import matplotlib.pyplot as plt\n",
    "%matplotlib inline\n",
    "\n",
    "plt.style.use('ggplot')\n",
    "plt.rcParams['figure.figsize'] = (12, 8)"
   ]
  },
  {
   "cell_type": "code",
   "execution_count": 8,
   "metadata": {},
   "outputs": [
    {
     "data": {
      "image/png": "[encoded data removed]",
      "text/plain": [
       "<Figure size 864x576 with 1 Axes>"
      ]
     },
     "metadata": {},
     "output_type": "display_data"
    }
   ],
   "source": [
    "# Normal distributed x and y vector with mean 0 and standard deviation 1\n",
    "x = np.random.normal(0, 1, 500)\n",
    "y = np.random.normal(0, 1, 500)\n",
    "X = np.vstack((x, y)).T\n",
    "\n",
    "plt.scatter(X[:, 0], X[:, 1])\n",
    "plt.title('Generated Data')\n",
    "plt.axis('equal')\n",
    "plt.show()"
   ]
  },
  {
   "cell_type": "markdown",
   "metadata": {},
   "source": [
    "上面的例子中 $x$ 和 $y$ 都是独立变量, 它的协方差矩阵是\n",
    "\n",
    "$$\n",
    "C =\n",
    "  \\begin{pmatrix}\n",
    "    \\sigma^2_x & 0 \\\\\n",
    "    0 & \\sigma^2_y \\\\\n",
    "  \\end{pmatrix}\n",
    "$$\n",
    "\n",
    "还因为我们是从标准正态分布中提取的数据, 也就是说 $x$ 和 $y$ 的方差应该是 1\n",
    "\n",
    "$$\n",
    "C =\n",
    "  \\begin{pmatrix}\n",
    "    1 & 0 \\\\\n",
    "    0 & 1\\\\\n",
    "  \\end{pmatrix}\n",
    "$$\n",
    "\n",
    "下面我们通过编写计算协方差和协方差矩阵的函数来验证一下"
   ]
  },
  {
   "cell_type": "code",
   "execution_count": 11,
   "metadata": {},
   "outputs": [],
   "source": [
    "# Covariance\n",
    "def cov(x, y):\n",
    "  x_bar, y_bar = x.mean(), y.mean()\n",
    "  return np.sum((x - x_bar) * (y - y_bar)) / (len(x) - 1)\n",
    "\n",
    "# Covariance Matrix\n",
    "def cov_mat(X):\n",
    "  return np.array([\n",
    "    [cov(X[0], X[0]), cov(X[0], X[1])], \n",
    "    [cov(X[1], X[0]), cov(X[1], X[1])]\n",
    "  ])"
   ]
  },
  {
   "cell_type": "code",
   "execution_count": 15,
   "metadata": {},
   "outputs": [
    {
     "data": {
      "text/plain": [
       "array([[0.92942731, 0.1129788 ],\n",
       "       [0.1129788 , 1.02667208]])"
      ]
     },
     "execution_count": 15,
     "metadata": {},
     "output_type": "execute_result"
    }
   ],
   "source": [
    "# Calculate covariance matrix\n",
    "cov_mat(X.T)"
   ]
  },
  {
   "cell_type": "markdown",
   "metadata": {},
   "source": [
    "## Linear Transformations of the Data Set\n",
    "\n",
    "接着, 我们将看一下变换(transformation)如何影响数据和协方差矩阵 $C$. 使用下面的缩放矩阵(scaling matrix)对数据进行变换.\n",
    "\n",
    "> *缩放矩阵(scaling matrix)是对角方阵, 在线性代数中对角方阵的意义就是对空间中的每个轴进行缩放.*\n",
    "\n",
    "$$\n",
    "S =\n",
    "  \\begin{pmatrix}\n",
    "    s_x & 0 \\\\\n",
    "    0 & s_y \\\\\n",
    "  \\end{pmatrix}\n",
    "$$\n",
    "\n",
    "我们期望变换后的数据的协方差矩阵是\n",
    "\n",
    "$$\n",
    "C = \n",
    "  \\begin{pmatrix}\n",
    "    (s_x\\sigma_x)^2 & 0 \\\\\n",
    "    0 & (s_y\\sigma_y)^2 \\\\\n",
    "  \\end{pmatrix}\n",
    "$$\n",
    "\n",
    "这样做的意义是为了说明, 我们可以通过 $S = \\sqrt{C}$ 来从协方差矩阵中提取一个缩放矩阵, 这样数据的变换就可以用 $Y = SX$ 来实现.\n",
    "\n",
    "> *下面的代码中有段 `X = X - np.mean(X, 0)`, 这段代码的目的是将数据集移动到以零为中心的位置, 即数据集居中操作. 其本质是通过残差性质来实现的, 因为残差的和为零, 也就是说残差的均值为零.*"
   ]
  },
  {
   "cell_type": "code",
   "execution_count": 18,
   "metadata": {},
   "outputs": [
    {
     "data": {
      "image/png": "[encoded data removed]",
      "text/plain": [
       "<Figure size 864x576 with 1 Axes>"
      ]
     },
     "metadata": {},
     "output_type": "display_data"
    }
   ],
   "source": [
    "# Center the matrix at the origin. 将矩阵以原点来居中\n",
    "X = X - np.mean(X, 0)\n",
    "\n",
    "# Scaling matrix\n",
    "sx, sy = 0.7, 3.4\n",
    "Scale = np.array([\n",
    "  [sx, 0],\n",
    "  [0, sy]\n",
    "])\n",
    "\n",
    "# Apply scaling matrix to X\n",
    "Y = X.dot(Scale)\n",
    "\n",
    "plt.scatter(Y[:, 0], Y[:, 1])\n",
    "plt.title('Generated Data')\n",
    "plt.axis('equal')\n",
    "plt.show()"
   ]
  },
  {
   "cell_type": "code",
   "execution_count": 20,
   "metadata": {},
   "outputs": [
    {
     "data": {
      "text/plain": [
       "array([[ 0.45541938,  0.26888954],\n",
       "       [ 0.26888954, 11.86832926]])"
      ]
     },
     "execution_count": 20,
     "metadata": {},
     "output_type": "execute_result"
    }
   ],
   "source": [
    "# Calculate covariance matrix for Y\n",
    "cov_mat(Y.T)"
   ]
  },
  {
   "cell_type": "markdown",
   "metadata": {},
   "source": [
    "我们已经看到缩放矩阵对数据的线性变换, 接着使用旋转矩阵(rotation matrix)来对数据进行旋转. 我们把缩放矩阵和旋转矩阵组合到一起, 定义一个新的矩阵 $T$\n",
    "\n",
    "$$\n",
    "T = RS\n",
    "$$\n",
    "\n",
    "其中, $S$ 代表缩放矩阵, $R$ 代表旋转矩阵.\n",
    "\n",
    "旋转矩阵 $R$ 定义为\n",
    "\n",
    "$$\n",
    "R =\n",
    "  \\begin{pmatrix}\n",
    "    \\cos(\\theta) & -\\sin(\\theta) \\\\\n",
    "    \\sin(\\theta) & \\cos(\\theta)\n",
    "  \\end{pmatrix}\n",
    "$$\n",
    "\n",
    "其中 $\\theta$ 是旋转角度.\n",
    "\n",
    "对数据进行缩放和旋转变化可以表示为 $Y = TX = RSX$"
   ]
  },
  {
   "cell_type": "code",
   "execution_count": 22,
   "metadata": {},
   "outputs": [
    {
     "data": {
      "image/png": "[encoded data removed]",
      "text/plain": [
       "<Figure size 864x576 with 1 Axes>"
      ]
     },
     "metadata": {},
     "output_type": "display_data"
    }
   ],
   "source": [
    "# Rotation matrix\n",
    "theta = 0.77 * np.pi\n",
    "c, s = np.cos(theta), np.sin(theta)\n",
    "Rot = np.array([\n",
    "  [c, -s],\n",
    "  [s, c]\n",
    "])\n",
    "# Transformation matrix\n",
    "T = Scale.dot(Rot)\n",
    "# Apply transformation matrix to X\n",
    "Y = X.dot(T)\n",
    "\n",
    "plt.scatter(Y[:, 0], Y[:, 1])\n",
    "plt.title('Transformed Data')\n",
    "plt.axis('equal')\n",
    "plt.show()"
   ]
  },
  {
   "cell_type": "code",
   "execution_count": 24,
   "metadata": {},
   "outputs": [
    {
     "data": {
      "text/plain": [
       "array([[ 5.17989661, -5.62775704],\n",
       "       [-5.62775704,  7.14385203]])"
      ]
     },
     "execution_count": 24,
     "metadata": {},
     "output_type": "execute_result"
    }
   ],
   "source": [
    "# Calculate covariance matrix\n",
    "cov_mat(Y.T)"
   ]
  },
  {
   "cell_type": "markdown",
   "metadata": {},
   "source": [
    "## Eigen Decomposition of the Covariance Matrix\n",
    "\n",
    "协方差矩阵的特征分解.\n",
    "\n",
    "如果我们将协方差矩阵的所有特征向量以列向量方式组成一个矩阵 $V$, 所有的特征值做为矩阵 $L$ 主对角元素, 那么我们可以得到如下的等式\n",
    "\n",
    "$$\n",
    "CV = VL\n",
    "$$\n",
    "\n",
    "协方差矩阵可以表示为:\n",
    "\n",
    "$$\n",
    "C = VLV^{-1}\n",
    "$$\n",
    "\n",
    "特征向量是单位向量表示数据最大方差的方向, 而特征值表示这个方差在相应的方向上的大小. 这就意味着, $V$ 表示一个旋转矩阵, $\\sqrt{L}$ 表示一个缩放矩阵. 根据这个等式, 我们可以将协方差矩阵表示为\n",
    "\n",
    "$$\n",
    "C = RSSR^{-1}\n",
    "$$\n",
    "\n",
    "这里的旋转矩阵 $R = V$, 缩放矩阵 $S = \\sqrt{L}$. 我们将旋转矩阵和缩放矩阵组合形成一个新的矩阵称之为线性转换矩阵 $T = RS$, 那么可以将上面的等式改写为:\n",
    "\n",
    "$$\n",
    "C = TT^{T}\n",
    "$$"
   ]
  }
 ],
 "metadata": {
  "interpreter": {
   "hash": "c47b3fd94286b9788ca24a5dc76812a7f3d81a041a874dbfccf1db12dc8e64b6"
  },
  "kernelspec": {
   "display_name": "Python 3.8.5 ('base')",
   "language": "python",
   "name": "python3"
  },
  "language_info": {
   "codemirror_mode": {
    "name": "ipython",
    "version": 3
   },
   "file_extension": ".py",
   "mimetype": "text/x-python",
   "name": "python",
   "nbconvert_exporter": "python",
   "pygments_lexer": "ipython3",
   "version": "3.8.5"
  },
  "orig_nbformat": 4
 },
 "nbformat": 4,
 "nbformat_minor": 2
}

{
 "cells": [
  {
   "cell_type": "markdown",
   "metadata": {},
   "source": [
    "# Multicollinearity\n",
    "\n",
    "> From WikiPedia: In statistics, **multicollinearity** is a phenomenon in which one predictor variable in a multiple regression model can be linearly predicated from the others with a substantial degree of accuracy.\n",
    "> In this situation, the coefficient estimate of the multiple regression may change erratically in response to small changes in the model or the data.\n",
    "\n",
    "在统计学中, 多重共线性指的是一种现象, 即一个预测器变量可以由其他的预测器变量精准的通过线性预测预测出来. 或者这么说: 在回归模型中一个独立变量可以被其他独立变量精准预测.\n",
    "\n",
    "当出现多重共线性时, 多元回归系数的估计可能会随着模型或数据的微小改变而不规则的变化."
   ]
  },
  {
   "cell_type": "markdown",
   "metadata": {},
   "source": [
    "## What is Multicollinearity?\n",
    "\n",
    "Multicollinearity occurs when two or more independent variable are highly correlated with one another in a regression model.\n",
    "\n",
    "让我们举个例子来更好的理解多重共线性. 王小二喜欢在看电视的时候吃薯片, 只要他看电视就必吃薯片, 或者说他吃薯片的时候一定会看电视. 那么建设现在我们可以将王小二看电视吃薯片的快乐程度量化, 那么此时就会出现多重共线性, 也就是我们没有办法说他只看电视的时候有多快乐, 或者说只吃薯片的时候有多快乐."
   ]
  },
  {
   "cell_type": "markdown",
   "metadata": {},
   "source": [
    "## The Problem with having Multicollinearity\n",
    "\n",
    "多重共线性在回归模型中是个问题, 因为我们不能区分每个单独的独立变量对依赖变量的影响程度.\n",
    "\n",
    "多重共线性可能不会影响模型的精度, 但是它会导致模型的可解释性变低."
   ]
  },
  {
   "cell_type": "markdown",
   "metadata": {},
   "source": [
    "## Detecting Multicollinearity using VIF\n",
    "\n",
    "我们可以使用 VIF (Variance Inflation Factor) 方差膨胀因子来检测多重共线性.\n",
    "\n",
    "使用 VIF 方法, 我们逐个选择特征并使用其他特征对其进行回归预测. 对于每个特征的 VIF 计算公式:\n",
    "\n",
    "$$\n",
    "\\text{VIF} = \\frac{1}{1 - R^2}\n",
    "$$\n",
    "\n",
    "其中的 $R^2$ 称作 R 方(R-squared), 其计算公式为:\n",
    "\n",
    "$$\n",
    "R^2 = 1 - \\frac{SS_{res}}{SS_{tot}}\n",
    "$$\n",
    "\n",
    "其中 $SS_{res}$ 和 $SS_{tot}$ 分别称为\"残差平方和\"(residual sum of squared)和\"误差平方和\"(total sum of squared), 计算公式如下:\n",
    "\n",
    "$$\n",
    "SS_{tot} = \\sum^n_{i=1}(y_i - \\bar{y})\n",
    "$$\n",
    "\n",
    "$$\n",
    "SS_{res} = \\sum^n_{i=1}(y_i - \\hat{y})\n",
    "$$\n",
    "\n",
    "这里,\n",
    "\n",
    "- $n$ 样本数量\n",
    "- $i$ 第 i 个样本\n",
    "- $y$ 实际值.\n",
    "- $\\bar{y}$ 实际值的均值\n",
    "- $\\hat{y}$ 预测值"
   ]
  },
  {
   "cell_type": "markdown",
   "metadata": {},
   "source": [
    "## References\n",
    "\n",
    "- [WikiPedia - Multicollinearity](https://en.wikipedia.org/wiki/Multicollinearity)\n",
    "- [What is Multicollinearity?](<https://www.analyticsvidhya.com/blog/2020/03/what-is-multicollinearity/#:~:text=Multicollinearity%20occurs%20when%20two%20or,variable%20in%20a%20regression%20model.>)\n",
    "- [Detecting Multicollinearity with VIF - Python](https://www.geeksforgeeks.org/detecting-multicollinearity-with-vif-python/)"
   ]
  }
 ],
 "metadata": {
  "interpreter": {
   "hash": "c47b3fd94286b9788ca24a5dc76812a7f3d81a041a874dbfccf1db12dc8e64b6"
  },
  "kernelspec": {
   "display_name": "Python 3.8.5 ('base')",
   "language": "python",
   "name": "python3"
  },
  "language_info": {
   "name": "python",
   "version": "3.8.5"
  },
  "orig_nbformat": 4
 },
 "nbformat": 4,
 "nbformat_minor": 2
}

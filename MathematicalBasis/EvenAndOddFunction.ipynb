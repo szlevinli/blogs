{
 "cells": [
  {
   "cell_type": "markdown",
   "metadata": {},
   "source": [
    "# Even and odd Function\n",
    "\n",
    "In Mathematics, **even functions** and **odd functions** are functions which satisfy particular symmetry relations, with respect to taking additive inverses.\n",
    "\n",
    "> 在数学中, 偶函数和奇函数在取加性逆时满足特定对称关系的函数.\n",
    "\n",
    "## Even functions\n",
    "\n",
    "$$\n",
    "f(x) = f(-x)\n",
    "$$\n",
    "\n",
    "Examples of even functions are:\n",
    "\n",
    "- $x \\mapsto |x|$\n",
    "- $x \\mapsto x^2$\n",
    "- $x \\mapsto x^4$\n",
    "\n",
    "## Odd functions\n",
    "\n",
    "$$\n",
    "-f(x) = f(-x)\n",
    "$$\n",
    "\n",
    "Examples of odd functions are:\n",
    "\n",
    "- The identity function: $x \\mapsto x$,\n",
    "- $x \\mapsto x^3$"
   ]
  }
 ],
 "metadata": {
  "interpreter": {
   "hash": "c47b3fd94286b9788ca24a5dc76812a7f3d81a041a874dbfccf1db12dc8e64b6"
  },
  "kernelspec": {
   "display_name": "Python 3.8.5 ('base')",
   "language": "python",
   "name": "python3"
  },
  "language_info": {
   "name": "python",
   "version": "3.8.5"
  },
  "orig_nbformat": 4
 },
 "nbformat": 4,
 "nbformat_minor": 2
}

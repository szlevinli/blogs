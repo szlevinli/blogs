{
 "cells": [
  {
   "cell_type": "code",
   "execution_count": 1,
   "metadata": {},
   "outputs": [],
   "source": [
    "import numpy as np"
   ]
  },
  {
   "cell_type": "markdown",
   "metadata": {},
   "source": [
    "# Eigenvalue and Eigenvector\n",
    "\n",
    "- eigenvalue: 特征值\n",
    "- eigenvector: 特征向量\n",
    "\n",
    "> eigen 是德语, 表示特殊的意思.\n",
    "\n",
    "简单的说, 特征向量在装换过程中不改变方向.\n",
    "\n",
    "对于一个方阵 $A$, 它有一个特征向量 $\\vec{v}$ 和一个特征值 $\\lambda$\n",
    "\n",
    "$$\n",
    "A\\vec{v} = \\lambda\\vec{v}\n",
    "$$"
   ]
  },
  {
   "cell_type": "markdown",
   "metadata": {},
   "source": [
    "## 如何计算\n",
    "\n",
    "首先我们在等式的右边加入一个单位矩阵, 使得等式变为 矩阵-对-矩阵\n",
    "\n",
    "$$\n",
    "A\\vec{v} = \\lambda I \\vec{v}\n",
    "$$\n",
    "\n",
    "现在将等式右边移到左边\n",
    "\n",
    "$$\n",
    "A\\vec{v} - \\lambda I \\vec{v} = 0\n",
    "$$\n",
    "\n",
    "如果 $\\vec{v}$ 是非零向量, 那么我们可以仅仅使用行列式来解出 $\\lambda$\n",
    "\n",
    "$$\n",
    "| A - \\lambda I | = 0\n",
    "$$"
   ]
  },
  {
   "cell_type": "markdown",
   "metadata": {},
   "source": [
    "> References:\n",
    "> - [math is fun](https://www.mathsisfun.com/algebra/eigenvalue.html)\n",
    "> - [math word - eigenvalue](https://mathworld.wolfram.com/Eigenvalue.html)\n",
    "> - [math word - eigenvector](https://mathworld.wolfram.com/Eigenvector.html)"
   ]
  }
 ],
 "metadata": {
  "interpreter": {
   "hash": "c47b3fd94286b9788ca24a5dc76812a7f3d81a041a874dbfccf1db12dc8e64b6"
  },
  "kernelspec": {
   "display_name": "Python 3.8.5 ('base')",
   "language": "python",
   "name": "python3"
  },
  "language_info": {
   "codemirror_mode": {
    "name": "ipython",
    "version": 3
   },
   "file_extension": ".py",
   "mimetype": "text/x-python",
   "name": "python",
   "nbconvert_exporter": "python",
   "pygments_lexer": "ipython3",
   "version": "3.8.5"
  },
  "orig_nbformat": 4
 },
 "nbformat": 4,
 "nbformat_minor": 2
}

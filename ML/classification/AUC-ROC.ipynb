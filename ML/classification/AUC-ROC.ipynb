{
 "cells": [
  {
   "cell_type": "markdown",
   "metadata": {},
   "source": [
    "# AUC - ROC Curve\n",
    "\n",
    "- AUC: Area Under the Curve\n",
    "- ROC: Receiver Operating Characteristics curve"
   ]
  },
  {
   "cell_type": "markdown",
   "metadata": {},
   "source": [
    "在这个主题中比较难理解的是:\n",
    "\n",
    "- ROC 曲线是怎么画出来的? 纵坐标是 TPR, 横坐标是 FPR, 这都好理解, 问题是在这个坐标系下 ROC 的曲线是怎么画出来的? 是通过调整阈值计算出来的? 这个可能性最大, 也就是说当我们建立了一个分类模型, 然后通过设置不同的阈值(0,1)来画出这个 ROC\n",
    "- AUC 的值是在 0 到 1 之间, 而且约接近 1 说明模型分类效果约好, 这都好理解. 问题是为什么, 为什么说越接近 1 约好, 背后的逻辑或者理论是什么?\n",
    "- 逻辑回归的目标是不是主要为了确定阈值? 感觉不对, 逻辑回归模型找的不应该是回归系数吗?\n"
   ]
  },
  {
   "cell_type": "markdown",
   "metadata": {},
   "source": [
    "## What are ROC Curves?\n",
    "\n",
    "It is a plot of the false positive rate (x-axis) versus the true positive rate (y-axis) for a number of different candidate threshold values between 0.0 and 1.0. Put another way, it plots the false alarm rate versus the hit rate.\n",
    "\n",
    "这段解释了 ROC 的确是根据不同的阈值在 TPR 和 FPR 坐标系中画出的曲线. 同时也指出, ROC 也可以作为误报率和命中率示意图.\n",
    "\n",
    "TPR 真阳率指的是\"正确的预测为阳分类的数量\"除以\"实际是阳分类的数量\", 即 $TPR=\\frac{TP}{TP+FN}$. 它通常也称为\"召回率\"(recall), \"灵敏度\"(sensitivity).\n",
    "\n",
    "FPR 假阳率指的是\"错误的预测成阳分类的数量\"除以\"实际是阴分类的数量\", 即 $FPR=\\frac{FP}{FP+TN}$.\n",
    "\n",
    "ROC 曲线可以:\n",
    "\n",
    "- 在一般情况下, 可以直接比较不同模型的曲线, 也可以比较不同阈值的曲线\n",
    "- 曲线下面积(AUC)可以用作模型技能的总结.\n",
    "\n",
    "ROC 揭示了以下情况:\n",
    "\n",
    "- 图形中 x 轴上的值越小, 表示假阳性越低, 真阴性越高\n",
    "- 图形中 y 轴上的值越大, 表示真阳性越高, 假阴性越低"
   ]
  },
  {
   "cell_type": "markdown",
   "metadata": {},
   "source": [
    "## ROC Curves and AUC in Python"
   ]
  },
  {
   "cell_type": "code",
   "execution_count": 1,
   "metadata": {},
   "outputs": [],
   "source": [
    "# roc curve and aut\n",
    "from sklearn.datasets import make_classification\n",
    "from sklearn.linear_model import LogisticRegression\n",
    "from sklearn.model_selection import train_test_split\n",
    "from sklearn.metrics import roc_curve, roc_auc_score"
   ]
  },
  {
   "cell_type": "code",
   "execution_count": 14,
   "metadata": {},
   "outputs": [
    {
     "name": "stdout",
     "output_type": "stream",
     "text": [
      "No Skill: ROC AUC=0.500\n"
     ]
    }
   ],
   "source": [
    "# generate 2 class dataset\n",
    "X, y = make_classification(\n",
    "    n_samples=1000,\n",
    "    n_classes=2,\n",
    "    random_state=1\n",
    ")\n",
    "# split into train/test sets\n",
    "trainX, testX, train_y, test_y = train_test_split(\n",
    "    X,\n",
    "    y,\n",
    "    test_size=0.5,\n",
    "    random_state=2\n",
    ")\n",
    "# generate a no skill prediction (majority class)\n",
    "ns_probs = [0 for _ in range(len(test_y))]\n",
    "# fit a model\n",
    "model = LogisticRegression(solver='lbfgs')\n",
    "model.fit(trainX, train_y)\n",
    "# predict probabilities\n",
    "lr_probs = model.predict_proba(testX)\n",
    "# keep probabilities for the positive outcome only\n",
    "lr_probs = lr_probs[:, 1]\n",
    "# calculate scores\n",
    "ns_auc = roc_auc_score(test_y, ns_probs)\n",
    "lr_auc = roc_auc_score(test_y, lr_probs)\n",
    "# summarize scores\n",
    "print(f'No Skill: ROC AUC={ns_auc:.3f}')"
   ]
  },
  {
   "cell_type": "markdown",
   "metadata": {},
   "source": [
    "## References\n",
    "\n",
    "- [Understanding AUC - ROC Curve](https://towardsdatascience.com/understanding-auc-roc-curve-68b2303cc9c5)\n",
    "- [How to Use ROC Curves and Precision-Recall Curves for Classification in Python](https://machinelearningmastery.com/roc-curves-and-precision-recall-curves-for-classification-in-python/)"
   ]
  }
 ],
 "metadata": {
  "interpreter": {
   "hash": "c47b3fd94286b9788ca24a5dc76812a7f3d81a041a874dbfccf1db12dc8e64b6"
  },
  "kernelspec": {
   "display_name": "Python 3.8.5 ('base')",
   "language": "python",
   "name": "python3"
  },
  "language_info": {
   "codemirror_mode": {
    "name": "ipython",
    "version": 3
   },
   "file_extension": ".py",
   "mimetype": "text/x-python",
   "name": "python",
   "nbconvert_exporter": "python",
   "pygments_lexer": "ipython3",
   "version": "3.8.5"
  },
  "orig_nbformat": 4
 },
 "nbformat": 4,
 "nbformat_minor": 2
}

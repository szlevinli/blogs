{
 "cells": [
  {
   "cell_type": "markdown",
   "metadata": {},
   "source": [
    "# Confusion Matrix\n",
    "\n",
    "In the field of machine learning and specifically the problem of statistical classification, a **confusion matrix**, also known as an error matrix, is a specific table layout that allows visualization of the performance of an algorithm, typically a supervised learning on.\n",
    "\n",
    "![confusion matrix](../assets/confusion_matrix.png)\n",
    "\n",
    "这里我们将这些英文简写翻译成中文以便于更好的理解\n",
    "\n",
    "- TP: True Positive, 正确的预测为阳分类. 即实际是阳分类, 预测结果也是阳分类;\n",
    "- FN: False Negative, 错误的预测成阴分类. 即实际是阳分类, 预测结果是阴分类;\n",
    "- FP: False Positive, 错误的预测成阳分类, 即实际是阴分类, 预测记过是阳分类;\n",
    "- TN: True Negative, 正确的预测为阴分类, 即实际是阴分类, 预测结果也是阴分类."
   ]
  },
  {
   "cell_type": "markdown",
   "metadata": {},
   "source": [
    "## References\n",
    "\n",
    "- [WikiPedia](https://en.wikipedia.org/wiki/Confusion_matrix)\n",
    "- [What is a Confusion Matrix in Machine Learning](<https://machinelearningmastery.com/confusion-matrix-machine-learning/#:~:text=A%20confusion%20matrix%20is%20a%20summary%20of%20prediction%20results%20on,key%20to%20the%20confusion%20matrix.>)"
   ]
  }
 ],
 "metadata": {
  "interpreter": {
   "hash": "c47b3fd94286b9788ca24a5dc76812a7f3d81a041a874dbfccf1db12dc8e64b6"
  },
  "kernelspec": {
   "display_name": "Python 3.8.5 ('base')",
   "language": "python",
   "name": "python3"
  },
  "language_info": {
   "name": "python",
   "version": "3.8.5"
  },
  "orig_nbformat": 4
 },
 "nbformat": 4,
 "nbformat_minor": 2
}

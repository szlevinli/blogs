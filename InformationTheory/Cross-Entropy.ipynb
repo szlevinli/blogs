{
 "cells": [
  {
   "cell_type": "markdown",
   "metadata": {},
   "source": [
    "# Cross-Entropy\n",
    "\n",
    "在机器学习领域中, 交叉熵主要当做损失函数(loss function)\n",
    "\n",
    "- KL 散度(KL divergence), 计算两个概率分布之间的相对熵(relative entropy)\n",
    "- 交叉熵(cross-entropy), 计算两个概率分布之间的总熵\n",
    "\n",
    "交叉熵与逻辑损失(logistic loss)有关, 并且经常混淆他们. 虽然这两个度量源自不同的来源, 但当用作分类模型的损失函数时, 这两个度量计算的结果是相同的, 可以互换使用.\n"
   ]
  },
  {
   "cell_type": "markdown",
   "metadata": {},
   "source": [
    "## What Is Cross-Entropy\n",
    "\n",
    "交叉熵是在给定随机变量或事件集的情况下, 两个概率分布间有多不同的一种度量.\n",
    "\n",
    "从上面的定义我们可以直观的说, 当 P 作为目标概率分布, Q 表示估计的概率分布, 那么交叉熵表示 Q(估计) 据 P(实际) 有多少比特(bits)单位的数量. 公式可以写作:\n",
    "\n",
    "$$\n",
    "H(P, Q)\n",
    "$$\n",
    "\n",
    "交叉熵可以使用 P 的事件概率和 Q 的事件概率来计算\n",
    "\n",
    "$$\n",
    "H(P, Q) = -\\sum_{x \\in X} P(x) * log(Q(x))\n",
    "$$"
   ]
  },
  {
   "cell_type": "markdown",
   "metadata": {},
   "source": [
    "## Cross-Entropy Versus KL Divergence\n",
    "\n",
    "交叉熵不是 KL 散度.\n",
    "\n",
    "交叉熵与散度的度量有关, 散度量化了一个分布于另一个分布的差异程度.\n",
    "\n",
    "具体来说, KL 散度测量的是一个与交叉熵非常相似的量. KL 散度测量用 Q 代替 P 表示消息所需的平均额外比特数, 而不是总比特数.\n",
    "\n",
    "因此 KL 散度通常也称为 \"相对熵\" (relative entropy)\n",
    "\n",
    "- **交叉熵**: 一个事件使用 Q 代替 P 来表示所需要的总得平均比特数.\n",
    "- **相对熵**: 一个事件使用 Q 代替 P 来表示所需要的额外平均比特数.\n",
    "\n",
    "$$\n",
    "KL(P || Q) = -\\sum_{x \\in X} P(x) * \\log(\\frac{Q(x)}{P(x)})\n",
    "$$\n",
    "\n",
    "因此, 我们可以通过分布的熵加上由 KL 散度计算的额外熵里计算交叉熵\n",
    "\n",
    "$$\n",
    "H(P, Q) = H(P) + KL(P || Q)\n",
    "$$"
   ]
  },
  {
   "cell_type": "markdown",
   "metadata": {},
   "source": [
    "## How to Calculate Cross-Entropy\n",
    "\n",
    "### Two Discrete Probability Distributions\n",
    "\n",
    "考虑一个随机变量有三个离散事件: 红, 绿, 蓝."
   ]
  },
  {
   "cell_type": "code",
   "execution_count": 3,
   "metadata": {},
   "outputs": [
    {
     "name": "stdout",
     "output_type": "stream",
     "text": [
      "P=1.000 Q=1.000\n"
     ]
    },
    {
     "data": {
      "image/png": "[encoded data removed]",
      "text/plain": [
       "<Figure size 432x288 with 2 Axes>"
      ]
     },
     "metadata": {
      "needs_background": "dark"
     },
     "output_type": "display_data"
    }
   ],
   "source": [
    "# plot of distributions\n",
    "from matplotlib import pyplot as plt\n",
    "# define distributions\n",
    "events = ['red', 'green', 'blue']\n",
    "p = [0.10, 0.40, 0.50]\n",
    "q = [0.80, 0.15, 0.05]\n",
    "print(f'P={sum(p):.3f} Q={sum(q):.3f}')\n",
    "# plot first distribution\n",
    "plt.subplot(2, 1, 1)\n",
    "plt.bar(events, p)\n",
    "# plot second distribution\n",
    "plt.subplot(2, 1, 2)\n",
    "plt.bar(events, q)\n",
    "# show the plot\n",
    "plt.show()\n"
   ]
  },
  {
   "cell_type": "markdown",
   "metadata": {},
   "source": [
    "### Calculate Cross-Entropy Between Distribution\n"
   ]
  },
  {
   "cell_type": "code",
   "execution_count": 6,
   "metadata": {},
   "outputs": [
    {
     "name": "stdout",
     "output_type": "stream",
     "text": [
      "H(P, Q): 3.288 bits\n",
      "H(Q, P): 2.906 bits\n"
     ]
    }
   ],
   "source": [
    "# example of calculate cross entropy\n",
    "from math import log2\n",
    "# calculate cross entropy\n",
    "def cross_entropy(p, q):\n",
    "  return -sum([p[i] * log2(q[i]) for i in range(len(p))])\n",
    "# define data\n",
    "p = [0.10, 0.40, 0.50]\n",
    "q = [0.80, 0.15, 0.05]\n",
    "# calculate cross entropy H(P, Q)\n",
    "ce_pq = cross_entropy(p, q)\n",
    "print(f'H(P, Q): {ce_pq:.3f} bits')\n",
    "# calculate cross entropy H(Q, P)\n",
    "ce_qp = cross_entropy(q, p)\n",
    "print(f'H(Q, P): {ce_qp:.3f} bits')"
   ]
  },
  {
   "cell_type": "markdown",
   "metadata": {},
   "source": [
    "### Calculate Cross-Entropy Between a Distribution and Itself\n",
    "\n",
    "如果两个分布相同, 则交叉熵等于分布的熵"
   ]
  },
  {
   "cell_type": "code",
   "execution_count": 8,
   "metadata": {},
   "outputs": [
    {
     "name": "stdout",
     "output_type": "stream",
     "text": [
      "H(P, P): 1.361 bits\n",
      "H(Q, Q): 0.884 bits\n"
     ]
    }
   ],
   "source": [
    "# calculate cross entropy H(P, P)\n",
    "ce_pp = cross_entropy(p, p)\n",
    "print(f'H(P, P): {ce_pp:.3f} bits')\n",
    "# calculate cross entropy H(Q, Q)\n",
    "ce_qq = cross_entropy(q, q)\n",
    "print(f'H(Q, Q): {ce_qq:.3f} bits')\n"
   ]
  },
  {
   "cell_type": "markdown",
   "metadata": {},
   "source": [
    "### Calculate Cross-Entropy Using KL Divergence\n"
   ]
  },
  {
   "cell_type": "code",
   "execution_count": 10,
   "metadata": {},
   "outputs": [
    {
     "name": "stdout",
     "output_type": "stream",
     "text": [
      "H(P): 1.361 bits\n",
      "KL(P || Q): 1.927 bits\n",
      "H(P, Q): 3.288 bits\n"
     ]
    }
   ],
   "source": [
    "# example of calculating cross entropy with KL divergence\n",
    "from math import log2\n",
    "\n",
    "\n",
    "# calculate the KL divergence KL(P || Q)\n",
    "def kl_divergence(p, q):\n",
    "    return sum([p[i] * log2(p[i] / q[i]) for i in range(len(p))])\n",
    "\n",
    "\n",
    "# calculate entropy H(P)\n",
    "def entropy(p):\n",
    "    return -sum([p[i] * log2(p[i]) for i in range(len(p))])\n",
    "\n",
    "\n",
    "# calculate cross entropy H(P, Q)\n",
    "def cross_entropy(p, q):\n",
    "    return entropy(p) + kl_divergence(p, q)\n",
    "\n",
    "\n",
    "# define data\n",
    "p = [0.10, 0.40, 0.50]\n",
    "q = [0.80, 0.15, 0.05]\n",
    "# calculate H(P)\n",
    "en_p = entropy(p)\n",
    "print(f'H(P): {en_p:.3f} bits')\n",
    "# calculate KL Divergence KL(P || Q)\n",
    "kl_pq = kl_divergence(p, q)\n",
    "print(f'KL(P || Q): {kl_pq:.3f} bits')\n",
    "# calculate cross entropy H(P, Q)\n",
    "ce_pq = cross_entropy(p, q)\n",
    "print(f'H(P, Q): {ce_pq:.3f} bits')\n"
   ]
  },
  {
   "cell_type": "markdown",
   "metadata": {},
   "source": [
    "## Cross-Entropy as a Loss Function\n",
    "\n",
    "交叉熵广泛的用作损失函数, 当对分类模型进行优化时."
   ]
  },
  {
   "cell_type": "markdown",
   "metadata": {},
   "source": [
    "## References\n",
    "\n",
    "- [A Gentle Introduction to Cross-Entropy for Machine Learning](https://machinelearningmastery.com/cross-entropy-for-machine-learning/)"
   ]
  }
 ],
 "metadata": {
  "interpreter": {
   "hash": "c47b3fd94286b9788ca24a5dc76812a7f3d81a041a874dbfccf1db12dc8e64b6"
  },
  "kernelspec": {
   "display_name": "Python 3.8.5 ('base')",
   "language": "python",
   "name": "python3"
  },
  "language_info": {
   "codemirror_mode": {
    "name": "ipython",
    "version": 3
   },
   "file_extension": ".py",
   "mimetype": "text/x-python",
   "name": "python",
   "nbconvert_exporter": "python",
   "pygments_lexer": "ipython3",
   "version": "3.8.5"
  },
  "orig_nbformat": 4
 },
 "nbformat": 4,
 "nbformat_minor": 2
}

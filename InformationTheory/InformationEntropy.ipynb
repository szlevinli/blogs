{
 "cells": [
  {
   "cell_type": "markdown",
   "metadata": {},
   "source": [
    "# Information Entropy\n",
    "\n",
    "信息论是数学的一个分支, 它研究的是如何在有噪音的信道中传输数据.\n",
    "\n",
    "信息论的基石是量化信息中有多少消息. 更一般的说, 这可以用于量化事件和一个随机变量的信息, 称为熵, 并使用概率来计算.\n"
   ]
  },
  {
   "cell_type": "markdown",
   "metadata": {},
   "source": [
    "## What is Information Theory?\n",
    "\n",
    "信息中的一个基本概念是定量事件, 随机变量和分布等信息的量化.\n",
    "\n",
    "量化信息的数量需要使用概率, 因此信息论与概率有关.\n"
   ]
  },
  {
   "cell_type": "markdown",
   "metadata": {},
   "source": [
    "## Calculate the Information for an Event\n",
    "\n",
    "- **Low Probability Event:** High Information (surprising)\n",
    "- **High Probability Event:** Low Information (unsurprising)\n",
    "\n",
    "> 信息论背后的基本直觉是, 得知一件不太可能发生的时间发生了, 比得知一件可能发生的事情发生了, 提供的信息更多.\n",
    "\n",
    "罕见时间具有更多的不确定性, 需要比普通事件拥有更多的信息来表示它们.\n",
    "\n",
    "我们可以通过一个事件的概率来计算它的信息量. 如果事件 $x$ 是离散事件, 则:\n",
    "\n",
    "$$\n",
    "information(x) = -\\log_2(p(x))\n",
    "$$\n",
    "\n",
    "上面的式子通常写作:\n",
    "\n",
    "$$\n",
    "h(x) = -\\log_2(p(x))\n",
    "$$\n",
    "\n",
    "考虑抛一个公平的硬币. 正面的概率是 0.5. 我们可以计算抛到正面的信息.\n"
   ]
  },
  {
   "cell_type": "code",
   "execution_count": 4,
   "metadata": {},
   "outputs": [
    {
     "name": "stdout",
     "output_type": "stream",
     "text": [
      "p(x)=0.500, information: 1.000 bits\n",
      "p(x)=0.100, information: 3.322 bits\n"
     ]
    }
   ],
   "source": [
    "# calculate the information for a coin flip\n",
    "from math import log2\n",
    "# probability of the event\n",
    "p = 0.5\n",
    "# calculate information for event\n",
    "h = -log2(p)\n",
    "print(f'p(x)={p:.3f}, information: {h:.3f} bits')\n",
    "# again \n",
    "p = 0.1\n",
    "h = -log2(p)\n",
    "print(f'p(x)={p:.3f}, information: {h:.3f} bits')\n"
   ]
  },
  {
   "cell_type": "markdown",
   "metadata": {},
   "source": [
    "为了更加清晰的理解, 我们画图来展示概率的信息曲线."
   ]
  },
  {
   "cell_type": "code",
   "execution_count": 8,
   "metadata": {},
   "outputs": [
    {
     "data": {
      "image/png": "[encoded data removed]",
      "text/plain": [
       "<Figure size 432x288 with 1 Axes>"
      ]
     },
     "metadata": {
      "needs_background": "dark"
     },
     "output_type": "display_data"
    }
   ],
   "source": [
    "# compare probability vs information entropy\n",
    "from math import log2\n",
    "from matplotlib import pyplot as plt\n",
    "import numpy as np\n",
    "# list of probabilities\n",
    "probs = np.linspace(0.1, 1, 10)\n",
    "# calculate information\n",
    "info = [-log2(p) for p in probs]\n",
    "# plot probability vs information\n",
    "plt.plot(probs, info, marker='.')\n",
    "plt.title('Probability vs Information')\n",
    "plt.xlabel('Probability')\n",
    "plt.ylabel('Information')\n",
    "plt.show()\n"
   ]
  },
  {
   "cell_type": "markdown",
   "metadata": {},
   "source": [
    "## Calculate the Entropy for a Random Variable\n",
    "\n",
    "计算随机变量的信息, 称之为 \"信息熵\", 或简称 \"熵\".\n",
    "\n",
    "熵的计算, 对于随机变量 $X$, 有 $k$ 个离散值在 $K$ 中:\n",
    "\n",
    "$$\n",
    "H(X) = -\\sum_{k \\in K} (P(k) * log_b(P(k)))\n",
    "$$\n",
    "\n",
    "这里的 $b$ 是对数的底, 底可以是 2, $e$, 10. 不同的底针对不同的熵的单位, 当 $b=2$ 时熵的单位是 *bits*, $b=e$ 是 *nats*, $b=10$ 是 *bans*.\n",
    "\n",
    "最小熵是为一个概率为 1.0 的随机变量计算的. 一个随机变量的最大熵是所有事件的概率是相等的.\n"
   ]
  },
  {
   "cell_type": "code",
   "execution_count": 10,
   "metadata": {},
   "outputs": [
    {
     "name": "stdout",
     "output_type": "stream",
     "text": [
      "entropy: 2.585 bits\n"
     ]
    }
   ],
   "source": [
    "# calculate the entropy for a dice roll\n",
    "from math import log2\n",
    "# the number of event\n",
    "n = 6\n",
    "# probability of one event\n",
    "p = 1.0 / 6\n",
    "# calculate entropy\n",
    "entropy = -sum([p * log2(p) for _ in range(n)])\n",
    "print(f'entropy: {entropy:.3f} bits')"
   ]
  },
  {
   "cell_type": "markdown",
   "metadata": {},
   "source": [
    "如果我们知道每个事件的概率, 就可以使用 `entropy()` SciPy function 去直接计算熵."
   ]
  },
  {
   "cell_type": "code",
   "execution_count": 14,
   "metadata": {},
   "outputs": [
    {
     "name": "stdout",
     "output_type": "stream",
     "text": [
      "entropy: 2.585 bits\n"
     ]
    }
   ],
   "source": [
    "# calculate the entropy for a dice roll\n",
    "from scipy.stats import entropy\n",
    "# discrete probabilities\n",
    "p = [1/6] * 6\n",
    "# calculate entropy\n",
    "e = entropy(p, base=2)\n",
    "print(f'entropy: {e:.3f} bits')"
   ]
  },
  {
   "cell_type": "markdown",
   "metadata": {},
   "source": [
    "- **Skewed Probability Distribution** (unsurprising): Low entropy.\n",
    "- **Balanced Probability Distribution** (surprising): High entropy."
   ]
  },
  {
   "cell_type": "code",
   "execution_count": 19,
   "metadata": {},
   "outputs": [
    {
     "data": {
      "image/png": "[encoded data removed]",
      "text/plain": [
       "<Figure size 432x288 with 1 Axes>"
      ]
     },
     "metadata": {
      "needs_background": "dark"
     },
     "output_type": "display_data"
    }
   ],
   "source": [
    "# compare probability distributions vs entropy\n",
    "from math import log2\n",
    "from matplotlib import pyplot as plt\n",
    "# calculate entropy\n",
    "def entropy(events, ets=1e-15):\n",
    "  return -sum([p * log2(p + ets) for p in events])\n",
    "# define probabilities\n",
    "probs = [0.0, 0.1, 0.2, 0.3, 0.4, 0.5]\n",
    "# create probability distribution\n",
    "dists = [[p, 1.0 - p] for p in probs]\n",
    "# calculate entropy for each distribution\n",
    "ents = [entropy(d) for d in dists]\n",
    "# plot probability distribution vs entropy\n",
    "plt.plot(probs, ents, marker='.')\n",
    "plt.title('Probability Distribution vs Entropy')\n",
    "plt.xticks(probs, [str(d) for d in dists])\n",
    "plt.xlabel('Probability Distribution')\n",
    "plt.ylabel('Entropy (bits)')\n",
    "plt.show()"
   ]
  },
  {
   "cell_type": "markdown",
   "metadata": {},
   "source": [
    " 上面的图揭示了事件的分布从偏斜到均衡熵逐步递增的情况."
   ]
  },
  {
   "cell_type": "markdown",
   "metadata": {},
   "source": [
    "## References\n",
    "\n",
    "- [A Gentle Introduction to Information Entropy](https://machinelearningmastery.com/what-is-information-entropy/)"
   ]
  }
 ],
 "metadata": {
  "interpreter": {
   "hash": "c47b3fd94286b9788ca24a5dc76812a7f3d81a041a874dbfccf1db12dc8e64b6"
  },
  "kernelspec": {
   "display_name": "Python 3.8.5 ('base')",
   "language": "python",
   "name": "python3"
  },
  "language_info": {
   "codemirror_mode": {
    "name": "ipython",
    "version": 3
   },
   "file_extension": ".py",
   "mimetype": "text/x-python",
   "name": "python",
   "nbconvert_exporter": "python",
   "pygments_lexer": "ipython3",
   "version": "3.8.5"
  },
  "orig_nbformat": 4
 },
 "nbformat": 4,
 "nbformat_minor": 2
}
